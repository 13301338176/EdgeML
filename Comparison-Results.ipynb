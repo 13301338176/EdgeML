{
 "cells": [
  {
   "cell_type": "code",
   "execution_count": 45,
   "metadata": {
    "ExecuteTime": {
     "end_time": "2018-11-01T12:52:44.767314Z",
     "start_time": "2018-11-01T12:52:42.235529Z"
    }
   },
   "outputs": [
    {
     "name": "stderr",
     "output_type": "stream",
     "text": [
      "/usr/lib/python3.6/importlib/_bootstrap.py:219: RuntimeWarning: numpy.dtype size changed, may indicate binary incompatibility. Expected 96, got 88\n",
      "  return f(*args, **kwds)\n",
      "/usr/lib/python3.6/importlib/_bootstrap.py:219: RuntimeWarning: numpy.dtype size changed, may indicate binary incompatibility. Expected 96, got 88\n",
      "  return f(*args, **kwds)\n"
     ]
    }
   ],
   "source": [
    "from sklearn import linear_model\n",
    "from sklearn.metrics import mean_absolute_error\n",
    "import os\n",
    "import numpy as np\n",
    "import xgboost"
   ]
  },
  {
   "cell_type": "code",
   "execution_count": 10,
   "metadata": {
    "ExecuteTime": {
     "end_time": "2018-11-01T12:41:50.481494Z",
     "start_time": "2018-11-01T12:41:50.412078Z"
    }
   },
   "outputs": [],
   "source": [
    "train = np.load(\"./Inverter_1_2017-03-30/train.npy\")\n",
    "test = np.load(\"./Inverter_1_2017-03-30/test.npy\")"
   ]
  },
  {
   "cell_type": "code",
   "execution_count": 11,
   "metadata": {
    "ExecuteTime": {
     "end_time": "2018-11-01T12:41:59.174703Z",
     "start_time": "2018-11-01T12:41:59.167586Z"
    }
   },
   "outputs": [
    {
     "data": {
      "text/plain": [
       "((5144, 6), (1287, 6))"
      ]
     },
     "execution_count": 11,
     "metadata": {},
     "output_type": "execute_result"
    }
   ],
   "source": [
    "train.shape , test.shape"
   ]
  },
  {
   "cell_type": "code",
   "execution_count": 15,
   "metadata": {
    "ExecuteTime": {
     "end_time": "2018-11-01T12:43:47.778293Z",
     "start_time": "2018-11-01T12:43:47.769170Z"
    }
   },
   "outputs": [
    {
     "data": {
      "text/plain": [
       "((5144, 5), (5144, 1), (1287, 5), (1287, 1))"
      ]
     },
     "execution_count": 15,
     "metadata": {},
     "output_type": "execute_result"
    }
   ],
   "source": [
    "x_train , y_train = train[:,1:] , train[:,0].reshape((-1,1))\n",
    "x_test , y_test = test[:,1:] , test[:,0].reshape((-1,1))\n",
    "x_train.shape, y_train.shape, x_test.shape, y_test.shape"
   ]
  },
  {
   "cell_type": "code",
   "execution_count": 20,
   "metadata": {
    "ExecuteTime": {
     "end_time": "2018-11-01T12:45:42.673455Z",
     "start_time": "2018-11-01T12:45:42.448866Z"
    }
   },
   "outputs": [
    {
     "data": {
      "text/plain": [
       "0.6550246157973469"
      ]
     },
     "execution_count": 20,
     "metadata": {},
     "output_type": "execute_result"
    }
   ],
   "source": [
    "lin_mod = linear_model.LinearRegression()\n",
    "lin_mod.fit(x_train,y_train)\n",
    "y_pred = lin_mod.predict(x_test)\n",
    "mean_absolute_error(y_test,y_pred)"
   ]
  },
  {
   "cell_type": "code",
   "execution_count": 44,
   "metadata": {
    "ExecuteTime": {
     "end_time": "2018-11-01T12:51:23.910774Z",
     "start_time": "2018-11-01T12:51:23.887406Z"
    }
   },
   "outputs": [
    {
     "data": {
      "text/plain": [
       "0.6425370385806931"
      ]
     },
     "execution_count": 44,
     "metadata": {},
     "output_type": "execute_result"
    }
   ],
   "source": [
    "lin_mod = linear_model.Lasso(alpha=0.01)\n",
    "lin_mod.fit(x_train,y_train)\n",
    "y_pred = lin_mod.predict(x_test)\n",
    "mean_absolute_error(y_test,y_pred)"
   ]
  },
  {
   "cell_type": "code",
   "execution_count": 47,
   "metadata": {
    "ExecuteTime": {
     "end_time": "2018-11-01T12:54:18.708195Z",
     "start_time": "2018-11-01T12:54:18.456022Z"
    }
   },
   "outputs": [
    {
     "data": {
      "text/plain": [
       "0.596540187399982"
      ]
     },
     "execution_count": 47,
     "metadata": {},
     "output_type": "execute_result"
    }
   ],
   "source": [
    "lin_mod = xgboost.XGBRegressor()\n",
    "lin_mod.fit(x_train,y_train)\n",
    "y_pred = lin_mod.predict(x_test)\n",
    "mean_absolute_error(y_test,y_pred)"
   ]
  },
  {
   "cell_type": "markdown",
   "metadata": {
    "ExecuteTime": {
     "end_time": "2018-11-01T13:00:33.773127Z",
     "start_time": "2018-11-01T13:00:33.763426Z"
    }
   },
   "source": [
    "| Algorithm | Test Set MAE|\n",
    "| ------------- | ------------- |\n",
    "|Bonsai | 0.6228\n",
    "|Linear Regression | 0.655\n",
    "|Lasso Regression | 0.6425\n",
    "|XG Boost | 0.5965"
   ]
  },
  {
   "cell_type": "code",
   "execution_count": null,
   "metadata": {},
   "outputs": [],
   "source": []
  }
 ],
 "metadata": {
  "kernelspec": {
   "display_name": "Python 3",
   "language": "python",
   "name": "python3"
  },
  "language_info": {
   "codemirror_mode": {
    "name": "ipython",
    "version": 3
   },
   "file_extension": ".py",
   "mimetype": "text/x-python",
   "name": "python",
   "nbconvert_exporter": "python",
   "pygments_lexer": "ipython3",
   "version": "3.6.6"
  },
  "nbTranslate": {
   "displayLangs": [
    "*"
   ],
   "hotkey": "alt-t",
   "langInMainMenu": true,
   "sourceLang": "en",
   "targetLang": "fr",
   "useGoogleTranslate": true
  }
 },
 "nbformat": 4,
 "nbformat_minor": 2
}
