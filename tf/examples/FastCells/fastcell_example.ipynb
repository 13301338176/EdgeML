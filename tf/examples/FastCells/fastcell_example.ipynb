{
 "cells": [
  {
   "cell_type": "code",
   "execution_count": null,
   "metadata": {},
   "outputs": [],
   "source": [
    "# Copyright (c) Microsoft Corporation. All rights reserved.\n",
    "# Licensed under the MIT license.\n",
    "\n",
    "import helpermethods\n",
    "import tensorflow as tf\n",
    "import numpy as np\n",
    "import sys\n",
    "sys.path.insert(0, '../../')\n",
    "\n",
    "#Provide the GPU number to be used\n",
    "os.environ['CUDA_VISIBLE_DEVICES'] =''\n",
    "\n",
    "#FastRNN and FastGRNN imports\n",
    "from edgeml.trainer.fastTrainer import FastTrainer\n",
    "from edgeml.graph.rnn import FastGRNNCell\n",
    "from edgeml.graph.rnn import FastRNNCell\n",
    "\n",
    "# Fixing seeds for reproducibility\n",
    "tf.set_random_seed(42)\n",
    "np.random.seed(42)"
   ]
  },
  {
   "cell_type": "code",
   "execution_count": null,
   "metadata": {},
   "outputs": [],
   "source": [
    "#Loading and Pre-processing dataset for FastCells\n",
    "#Ensure your usps10 went through dataCleanup.py before testing this out.\n",
    "dataDir = \"usps10/\"\n",
    "(dataDimension, numClasses, Xtrain, Ytrain, Xtest, Ytest) = helpermethods.preProcessData(dataDir)"
   ]
  },
  {
   "cell_type": "code",
   "execution_count": null,
   "metadata": {},
   "outputs": [],
   "source": [
    "#Setting hyper-parameters for FastCells on USPS10 dataset\n",
    "\n",
    "# Choose between FastGRNn & FastRNN\n",
    "cell = \"FastGRNN\"\n",
    "\n",
    "inputDims = 16 #features taken in by RNN in one timestep\n",
    "hiddenDims = 32 #hidden state of RNN\n",
    "\n",
    "totalEpochs = 300\n",
    "batchSize = 100\n",
    "\n",
    "learningRate = 0.01\n",
    "decayStep = 200\n",
    "decayRate = 0.1\n",
    "\n",
    "outFile = None #provide your file, if you need all the logging info in a file\n",
    "\n",
    "#low-rank parameterisation for weight matrices. None => Full Rank\n",
    "wRank = None \n",
    "uRank = None \n",
    "\n",
    "#Sparsity of the weight matrices. x => 100*x % are non-zeros\n",
    "sW = 1.0 \n",
    "sU = 1.0\n",
    "\n",
    "#Non-linearities for the RNN architecture. Can choose from \"tanh, sigmoid, relu, quantTanh, quantSigm\"\n",
    "update_non_linearity = \"tanh\"\n",
    "gate_non_linearity = \"sigmoid\""
   ]
  },
  {
   "cell_type": "code",
   "execution_count": null,
   "metadata": {},
   "outputs": [],
   "source": [
    "assert dataDimension % inputDims == 0, \"Infeasible per step input, Timesteps have to be integer\""
   ]
  },
  {
   "cell_type": "code",
   "execution_count": null,
   "metadata": {},
   "outputs": [],
   "source": [
    "#Placeholders for Data feeding during training and infernece\n",
    "X = tf.placeholder(\"float\", [None, int(dataDimension / inputDims), inputDims])\n",
    "Y = tf.placeholder(\"float\", [None, numClasses])"
   ]
  },
  {
   "cell_type": "code",
   "execution_count": null,
   "metadata": {},
   "outputs": [],
   "source": [
    "#Creating a directory for current model in the datadirectory using timestamp\n",
    "currDir = helpermethods.createTimeStampDir(dataDir, cell)\n",
    "helpermethods.dumpCommand(sys.argv, currDir)"
   ]
  },
  {
   "cell_type": "code",
   "execution_count": null,
   "metadata": {},
   "outputs": [],
   "source": [
    "#Create appropriate RNN cell object based on choice\n",
    "if cell == \"FastGRNN\":\n",
    "    FastCell = FastGRNNCell(hiddenDims, gate_non_linearity=gate_non_linearity,\n",
    "                            update_non_linearity=update_non_linearity,\n",
    "                            wRank=wRank, uRank=uRank)\n",
    "elif cell == \"FastRNN\":\n",
    "    FastCell = FastRNNCell(hiddenDims, update_non_linearity=update_non_linearity,\n",
    "                           wRank=wRank, uRank=uRank)\n",
    "else:\n",
    "    sys.exit('Exiting: No Such Cell as ' + cell)"
   ]
  },
  {
   "cell_type": "code",
   "execution_count": null,
   "metadata": {},
   "outputs": [],
   "source": [
    "#FastCell trainer for FastCell objects\n",
    "FastCellTrainer = FastTrainer(FastCell, X, Y, sW=sW, sU=sU, learningRate=learningRate, outFile=outFile)"
   ]
  },
  {
   "cell_type": "code",
   "execution_count": null,
   "metadata": {},
   "outputs": [],
   "source": [
    "#Session declaration and variable initialization. Interactive Session doesn't clog the entire GPU.\n",
    "sess = tf.InteractiveSession()\n",
    "sess.run(tf.global_variables_initializer())"
   ]
  },
  {
   "cell_type": "code",
   "execution_count": null,
   "metadata": {},
   "outputs": [],
   "source": [
    "#Fast Cell Train routine with 3 phase training\n",
    "FastCellTrainer.train(batchSize, totalEpochs, sess, Xtrain, Xtest,\n",
    "                      Ytrain, Ytest, decayStep, decayRate, dataDir, currDir)"
   ]
  },
  {
   "cell_type": "code",
   "execution_count": 1,
   "metadata": {},
   "outputs": [],
   "source": [
    "#If one uses piece-wise linear approximations for non-linearities liek quant Tanh for tanh and quantSigm for Sigmoid, \n",
    "#they can benefit greatly from pure integer arithmetic after model quantization during prediction\n",
    "\n",
    "#Model quantization\n",
    "model_dir = \"\" #you wil lsee model dir printed at the end of trianing\n",
    "\n",
    "import quantizeFastModels\n",
    "quantizeFastModels.quantizeFastModels(model_dir)"
   ]
  }
 ],
 "metadata": {
  "kernelspec": {
   "display_name": "Python 3",
   "language": "python",
   "name": "python3"
  },
  "language_info": {
   "codemirror_mode": {
    "name": "ipython",
    "version": 3
   },
   "file_extension": ".py",
   "mimetype": "text/x-python",
   "name": "python",
   "nbconvert_exporter": "python",
   "pygments_lexer": "ipython3",
   "version": "3.6.5"
  }
 },
 "nbformat": 4,
 "nbformat_minor": 2
}
